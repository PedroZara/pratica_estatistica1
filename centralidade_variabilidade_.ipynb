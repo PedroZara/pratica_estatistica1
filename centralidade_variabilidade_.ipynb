{
  "cells": [
    {
      "cell_type": "code",
      "execution_count": null,
      "metadata": {
        "id": "mDXO0dJVMftT"
      },
      "outputs": [],
      "source": [
        "# Medidas de centralidade e variabilidade"
      ]
    },
    {
      "cell_type": "code",
      "execution_count": null,
      "metadata": {
        "id": "QPNCspNaMftV"
      },
      "outputs": [],
      "source": [
        "# Importação das bibliotecas: scipy para gerar estatísticas mais detalhadas\n",
        "import numpy as np\n",
        "from scipy import stats"
      ]
    },
    {
      "cell_type": "code",
      "execution_count": null,
      "metadata": {
        "id": "IYqDN0R9MftW"
      },
      "outputs": [],
      "source": [
        "# Criação da variável com os dados dos jogadores, visualização da mediana e média\n",
        "jogadores = [40000, 18000, 12000, 250000, 30000, 140000, 300000, 40000, 800000]\n",
        "np.mean(jogadores)"
      ]
    },
    {
      "cell_type": "code",
      "execution_count": null,
      "metadata": {
        "id": "RhpbrJznMftX"
      },
      "outputs": [],
      "source": [
        "np.median(jogadores)"
      ]
    },
    {
      "cell_type": "code",
      "execution_count": null,
      "metadata": {
        "id": "AATNcJqVMftY"
      },
      "outputs": [],
      "source": [
        "# Criação da variável para geração dos quartis (0%, 25%, 50%, 75% e 100%) \n",
        "quartis = np.quantile(jogadores, [0, 0.25, 0.5, 0.75, 1])\n",
        "quartis"
      ]
    },
    {
      "cell_type": "code",
      "execution_count": null,
      "metadata": {
        "id": "6esOwsoCMftZ"
      },
      "outputs": [],
      "source": [
        " #visualização do desvio padrão\n",
        "np.std(jogadores, ddof = 1)"
      ]
    },
    {
      "cell_type": "code",
      "execution_count": null,
      "metadata": {
        "id": "cYJdCoJKMfta"
      },
      "outputs": [],
      "source": [
        "# Visualização de estatísticas mais detalhadas usando a biblioteca scipy\n",
        "stats.describe(jogadores)"
      ]
    },
    {
      "cell_type": "code",
      "execution_count": null,
      "metadata": {
        "id": "B1_2OtVSMftb"
      },
      "outputs": [],
      "source": [
        ""
      ]
    }
  ],
  "metadata": {
    "jupytext": {
      "cell_metadata_filter": "-all",
      "main_language": "python",
      "notebook_metadata_filter": "-all"
    },
    "kernelspec": {
      "display_name": "Python 3",
      "language": "python",
      "name": "python3"
    },
    "language_info": {
      "codemirror_mode": {
        "name": "ipython",
        "version": 3
      },
      "file_extension": ".py",
      "mimetype": "text/x-python",
      "name": "python",
      "nbconvert_exporter": "python",
      "pygments_lexer": "ipython3",
      "version": "3.7.6"
    },
    "colab": {
      "name": "4.centralidade_variabilidade_.ipynb",
      "provenance": []
    }
  },
  "nbformat": 4,
  "nbformat_minor": 0
}