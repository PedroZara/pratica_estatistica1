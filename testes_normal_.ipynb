{
  "cells": [
    {
      "cell_type": "code",
      "execution_count": null,
      "metadata": {
        "id": "lhkpq4DwM7Fs"
      },
      "outputs": [],
      "source": [
        "# Teste distribuição normal"
      ]
    },
    {
      "cell_type": "code",
      "execution_count": null,
      "metadata": {
        "id": "Kl1DmxBaM7Fu"
      },
      "outputs": [],
      "source": [
        "# Importação das bibliotecas: matplotlib para geração de gráficos\n",
        "from scipy import stats\n",
        "from scipy.stats import norm, skewnorm\n",
        "import matplotlib.pyplot as plt"
      ]
    },
    {
      "cell_type": "code",
      "execution_count": null,
      "metadata": {
        "id": "nEhiXTVCM7Fv"
      },
      "outputs": [],
      "source": [
        "# Criação de uma variável com dados em uma distribuição normal com a função rvs (100 elementos)\n",
        "dados = norm.rvs(size = 1000)\n",
        "dados"
      ]
    },
    {
      "cell_type": "code",
      "execution_count": null,
      "metadata": {
        "id": "pdnL7C5oM7Fv"
      },
      "outputs": [],
      "source": [
        "#histograma\n",
        "plt.hist(dados, bins = 20)\n",
        "plt.title('Dados')"
      ]
    },
    {
      "cell_type": "code",
      "execution_count": null,
      "metadata": {
        "id": "8QyuJNIgM7Fw"
      },
      "outputs": [],
      "source": [
        "# Geração de gráfico para verificar se a distribuição é normal\n",
        "fig, ax = plt.subplots()\n",
        "stats.probplot(dados, fit=True,   plot=ax)\n",
        "plt.show()"
      ]
    },
    {
      "cell_type": "code",
      "execution_count": null,
      "metadata": {
        "id": "3st83ygWM7Fw"
      },
      "outputs": [],
      "source": [
        "# Execução do teste de Shapiro\n",
        "#segundo argumento é o valor de p, não há como rejeitar a hipótese nula\n",
        "stats.shapiro(dados)"
      ]
    },
    {
      "cell_type": "markdown",
      "metadata": {
        "id": "XA3I96XWM7Fx"
      },
      "source": [
        "Dados não normais"
      ]
    },
    {
      "cell_type": "code",
      "execution_count": null,
      "metadata": {
        "id": "UdzDDAyBM7Fy"
      },
      "outputs": [],
      "source": [
        "dados2 = skewnorm.rvs(4, size=1000)"
      ]
    },
    {
      "cell_type": "code",
      "execution_count": null,
      "metadata": {
        "id": "GDXB84EfM7Fz"
      },
      "outputs": [],
      "source": [
        "#histograma\n",
        "plt.hist(dados2, bins = 20)\n",
        "plt.title('Dados')"
      ]
    },
    {
      "cell_type": "code",
      "execution_count": null,
      "metadata": {
        "id": "WeonJymfM7F0"
      },
      "outputs": [],
      "source": [
        "# Geração de gráfico para verificar se a distribuição é normal\n",
        "fig, ax = plt.subplots()\n",
        "stats.probplot(dados2, fit=True,   plot=ax)\n",
        "plt.show()"
      ]
    },
    {
      "cell_type": "code",
      "execution_count": null,
      "metadata": {
        "id": "K34d77t0M7F0"
      },
      "outputs": [],
      "source": [
        "stats.shapiro(dados2)"
      ]
    },
    {
      "cell_type": "code",
      "execution_count": null,
      "metadata": {
        "id": "3G5X34W8M7F1"
      },
      "outputs": [],
      "source": [
        ""
      ]
    }
  ],
  "metadata": {
    "jupytext": {
      "cell_metadata_filter": "-all",
      "main_language": "python",
      "notebook_metadata_filter": "-all"
    },
    "kernelspec": {
      "display_name": "Python 3",
      "language": "python",
      "name": "python3"
    },
    "language_info": {
      "codemirror_mode": {
        "name": "ipython",
        "version": 3
      },
      "file_extension": ".py",
      "mimetype": "text/x-python",
      "name": "python",
      "nbconvert_exporter": "python",
      "pygments_lexer": "ipython3",
      "version": "3.7.6"
    },
    "colab": {
      "name": "6.testes_normal_.ipynb",
      "provenance": [],
      "collapsed_sections": []
    }
  },
  "nbformat": 4,
  "nbformat_minor": 0
}